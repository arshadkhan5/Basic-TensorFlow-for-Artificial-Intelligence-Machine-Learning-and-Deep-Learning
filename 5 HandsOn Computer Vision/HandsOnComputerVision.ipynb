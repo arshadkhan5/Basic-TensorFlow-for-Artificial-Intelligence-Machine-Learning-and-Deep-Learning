{
  "nbformat": 4,
  "nbformat_minor": 0,
  "metadata": {
    "colab": {
      "name": "HandsOnComputerVision.ipynb",
      "provenance": [],
      "toc_visible": true
    },
    "kernelspec": {
      "name": "python3",
      "display_name": "Python 3"
    },
    "language_info": {
      "name": "python"
    }
  },
  "cells": [
    {
      "cell_type": "markdown",
      "metadata": {
        "id": "PcDPN4nQrRRN"
      },
      "source": [
        "# importing Tensorflow "
      ]
    },
    {
      "cell_type": "code",
      "metadata": {
        "colab": {
          "base_uri": "https://localhost:8080/"
        },
        "id": "w6pKVPmosJIy",
        "outputId": "da254903-0bdd-43a9-c17b-9d76b8cb6521"
      },
      "source": [
        "import tensorflow as tf\n",
        "\n",
        "print(tf.__version__)\n"
      ],
      "execution_count": 2,
      "outputs": [
        {
          "output_type": "stream",
          "text": [
            "2.4.1\n"
          ],
          "name": "stdout"
        }
      ]
    },
    {
      "cell_type": "markdown",
      "metadata": {
        "id": "mkZo9Ok6svnq"
      },
      "source": [
        "#### Fashion MNIST dataset is alvaible in the tensor and keras dataset API so  you can get it through below line of code"
      ]
    },
    {
      "cell_type": "code",
      "metadata": {
        "id": "LB92c8Z9tcPx"
      },
      "source": [
        "mnist=tf.keras.datasets.fashion_mnist\n"
      ],
      "execution_count": 5,
      "outputs": []
    },
    {
      "cell_type": "markdown",
      "metadata": {
        "id": "IYYaEkQqtqLZ"
      },
      "source": [
        "\n",
        "#### The below cell will do two things \n",
        "\n",
        "\n",
        "1.   Split the dataset in train and test images , train images is for training and test image is for checking and test the accurracy on unseen data\n",
        "2.   Split the dataset in train and test images labels \n",
        " \n",
        "Note :\n",
        "this dataset contain 10 object pictures so the object are labelled from 0 to 9 \n",
        "\n"
      ]
    },
    {
      "cell_type": "code",
      "metadata": {
        "id": "E0SINYGGt5we"
      },
      "source": [
        "(training_images ,training_labels) , (testing_images , testing_labels) = mnist.load_data()"
      ],
      "execution_count": 8,
      "outputs": []
    },
    {
      "cell_type": "markdown",
      "metadata": {
        "id": "RCr-cY__uv90"
      },
      "source": [
        "##### What does these values look like? Let's print a training image, and a training label to see...Experiment with different indices in the array. For example, also take a look at index of ur choice...that's a a different boot than the one at index 4"
      ]
    },
    {
      "cell_type": "code",
      "metadata": {
        "colab": {
          "base_uri": "https://localhost:8080/",
          "height": 758
        },
        "id": "rP_8rhRwwDsa",
        "outputId": "4d9b04b5-fdf2-4d31-da2f-7db15fc81215"
      },
      "source": [
        "import numpy as np # For some computatiuon\n",
        "np.set_printoptions(linewidth=200) # Context manager for setting print options.\n",
        "\n",
        "import matplotlib.pyplot as plt # For displaying \n",
        "plt.imshow(training_images[4]) # Show the images on index $ in traing images \n",
        "\n",
        "print(training_labels[4]) # For showing the label\n",
        "print(training_images[4]) # For showing the image\n"
      ],
      "execution_count": 9,
      "outputs": [
        {
          "output_type": "stream",
          "text": [
            "0\n",
            "[[  0   0   0   0   0   0   0   0   0   0   0   0   0   0   0   0   0  26   0   0   0   0   0   0   0   0   0   0]\n",
            " [  0   0   0   0   0   0   0   0 189 206 187  32   0   0   0  26 217 226 196  11   0   0   0   0   0   0   0   0]\n",
            " [  0   0   0   0   0   0   0   0 192 227 234 243 230 147 239 242 234 218 209   0   0   0   0   0   0   0   0   0]\n",
            " [  0   0   0   0   0   0   0   0 173 225 215 233 254   0 194 240 217 221 190   0   0   0   0   0   0   0   0   0]\n",
            " [  0   0   0   0   0   0   0   0 139 229 212 226 255   0 162 255 213 226 200   0   0   0   0   0   0   0   0   0]\n",
            " [  0   0   0   0   0   0   0   0  98 232 211 215 249  46 162 246 214 230 186   0   0   0   0   0   0   0   0   0]\n",
            " [  0   0   0   0   0   0   0   0  70 228 213 220 224 252 239 219 217 231 171   0   0   0   0   0   0   0   0   0]\n",
            " [  0   0   0   0   0   0   0   0  45 222 214 218 216 210 215 217 202 224 172   0   0   0   0   0   0   0   0   0]\n",
            " [  0   0   0   0   0   0   0   0  24 254 214 210 211 214 215 212 203 221 167   0   0   0   0   0   0   0   0   0]\n",
            " [  0   0   0   0   0   0   0   0   0 254 216 215 217 217 216 216 206 225 150   0   0   0   0   0   0   0   0   0]\n",
            " [  0   0   0   0   0   0   0   0   0 247 216 214 217 216 214 212 203 226 136   0   0   0   0   0   0   0   0   0]\n",
            " [  0   0   0   0   0   0   0   0   0 245 216 214 216 217 215 211 204 225 125   0   0   0   0   0   0   0   0   0]\n",
            " [  0   0   0   0   0   0   0   0   0 247 216 214 217 220 217 213 203 222 147   0   0   0   0   0   0   0   0   0]\n",
            " [  0   0   0   0   0   0   0   0   0 248 216 215 218 222 216 214 207 218 179   0   0   0   0   0   0   0   0   0]\n",
            " [  0   0   0   0   0   0   0   0   0 249 216 217 219 222 217 214 210 215 211   0   0   0   0   0   0   0   0   0]\n",
            " [  0   0   0   0   0   0   0   0  38 255 214 218 219 224 218 215 211 211 231   0   0   0   0   0   0   0   0   0]\n",
            " [  0   0   0   0   0   0   0   0  79 227 209 219 219 227 219 215 213 206 254  58   0   0   0   0   0   0   0   0]\n",
            " [  0   0   0   0   0   0   0   0 146 226 211 220 219 228 218 215 216 205 219 163   0   0   0   0   0   0   0   0]\n",
            " [  0   0   0   0   0   0   0   0 202 221 214 221 219 231 218 215 218 213 212 220   0   0   0   0   0   0   0   0]\n",
            " [  0   0   0   0   0   0   0   0 234 217 216 220 219 234 217 215 218 216 223 247   7   0   0   0   0   0   0   0]\n",
            " [  0   0   0   0   0   0   0  17 254 212 219 219 220 233 214 216 219 222 153 238  58   0   0   0   0   0   0   0]\n",
            " [  0   0   0   0   0   0   0  66 255 208 220 219 222 241 220 218 218 218 192 242  99   0   0   0   0   0   0   0]\n",
            " [  0   0   0   0   0   0   0 142 235 203 218 216 231 242 225 233 219 214 216 238 144   0   0   0   0   0   0   0]\n",
            " [  0   0   0   0   0   0   0 177 248 227 229 211 255  76   0 247 243 230 230 249 187   0   0   0   0   0   0   0]\n",
            " [  0   0   0   0   0   0   0 101 241 228 228 220 255  64   0 243 237 230 227 241 142   0   0   0   0   0   0   0]\n",
            " [  0   0   0   0   0   0   0   0 255 242 222 218 255  62   0 223 238 225 238 255  31   0   0   0   0   0   0   0]\n",
            " [  0   0   0   0   0   0   0   0  45 255 242 235 255  84   0 246 255 242 255  70   0   0   0   0   0   0   0   0]\n",
            " [  0   0   0   0   0   0   0   0   0   0  61 102 168  25   0 139 161  74   0   0   0   0   0   0   0   0   0   0]]\n"
          ],
          "name": "stdout"
        },
        {
          "output_type": "display_data",
          "data": {
            "image/png": "[encoded data removed]",
            "text/plain": [
              "<Figure size 432x288 with 1 Axes>"
            ]
          },
          "metadata": {
            "tags": [],
            "needs_background": "light"
          }
        }
      ]
    },
    {
      "cell_type": "markdown",
      "metadata": {
        "id": "U83oXEXnzdnC"
      },
      "source": [
        "#### You noticed that all of the values in the number are between 0 and 255.it's easier if we treat all values as between 0 and 1 for training nueral network for various reasons so the processes is called  <mark>Normalization"
      ]
    },
    {
      "cell_type": "code",
      "metadata": {
        "id": "OJNvbXeF0q6x"
      },
      "source": [
        "training_images=training_images/255.0 # these are For training \n",
        "testing_images=testing_images/255.0  # these are For testing model after  training"
      ],
      "execution_count": 10,
      "outputs": []
    },
    {
      "cell_type": "markdown",
      "metadata": {
        "id": "0EpheL4K05dw"
      },
      "source": [
        "## Now its to design The Model \n",
        "### 1 <mark>Sequential<mark> \n",
        " That defines a SEQUENCE of layers in the neural network\n",
        "\n",
        "### 2 <mark>Flatten<mark>\n",
        "Remember earlier where our images were a square, when you printed them out? Flatten just takes that square and turns it into a 1 dimensional set.\n",
        "\n",
        "### 3 <mark>Dense<mark>\n",
        "Adds a layer of neurons....Each layer of neurons need an activation function to tell them what to do. There's lots of options, but just use these for now.\n",
        "In last Dense layer specify the number of nuerons according to ur number of object ie classes\n",
        "### 4 <mark>Relu<mark>\n",
        "Relu effectively means \"If X>0 return X, else return 0\" -- so what it does it it only passes values 0 or greater to the next layer in the network.\n",
        "\n",
        "### 5 <mark>Softmax<mark>\n",
        "Softmax takes a set of values, and effectively picks the biggest one, so, for example, if the output of the last layer looks like [0.1, 0.1, 0.05, 0.1, 9.5, 0.1, 0.05, 0.05, 0.05], it saves you from fishing through it looking for the biggest value, and turns it into [0,0,0,0,1,0,0,0,0] -- The goal is to save a lot of coding!\n",
        "\n",
        "\n"
      ]
    },
    {
      "cell_type": "code",
      "metadata": {
        "id": "TfRaOoOc1eO4"
      },
      "source": [
        "model= tf.keras.models.Sequential([tf.keras.layers.Flatten(),\n",
        "                                   tf.keras.layers.Dense(128 , activation=tf.nn.relu),\n",
        "                                   tf.keras.layers.Dense(10 ,activation=tf.nn.softmax)]\n",
        ")"
      ],
      "execution_count": 11,
      "outputs": []
    },
    {
      "cell_type": "markdown",
      "metadata": {
        "id": "VuuI_Pqw4-nI"
      },
      "source": [
        "### Now the model is Ready so Its time to compile it \n",
        "Three things are used here \n",
        "\n",
        "### <mark>Optimizer<mark>\n",
        "it will optimize the loss of your function\n",
        "\n",
        "### <mark>Loss<mark>\n",
        "Loss is the Difference between the Actual data and Pridection...So the Loss show how much is it different from Actual value\n",
        "\n",
        "### <mark>metrics<mark>\n",
        "it is used for How Much it is  accurate ... The Accuracy will show in figure like 0.9556 it means that it is 95 % accurate \n",
        "\n"
      ]
    },
    {
      "cell_type": "code",
      "metadata": {
        "id": "YnqexupD5RKR"
      },
      "source": [
        "model.compile(optimizer = tf.optimizers.Adam(), loss ='sparse_categorical_crossentropy',metrics = ['accuracy'])"
      ],
      "execution_count": 17,
      "outputs": []
    },
    {
      "cell_type": "markdown",
      "metadata": {
        "id": "DkT197Bt7g2o"
      },
      "source": [
        "### Now fit the model \n",
        "Use fit and pass training_images , training and epochs\n",
        "### <mark>Epochs<mark> \n",
        "Epochs is used for how much time it will iterating "
      ]
    },
    {
      "cell_type": "code",
      "metadata": {
        "colab": {
          "base_uri": "https://localhost:8080/"
        },
        "id": "hD4dphdv8pLY",
        "outputId": "e6fdff21-3b95-4100-b0f8-950b9cb9e912"
      },
      "source": [
        "model.fit(training_images ,training_labels , epochs=10)"
      ],
      "execution_count": 18,
      "outputs": [
        {
          "output_type": "stream",
          "text": [
            "Epoch 1/10\n",
            "1875/1875 [==============================] - 4s 2ms/step - loss: 0.6187 - accuracy: 0.7874\n",
            "Epoch 2/10\n",
            "1875/1875 [==============================] - 3s 2ms/step - loss: 0.3869 - accuracy: 0.8613\n",
            "Epoch 3/10\n",
            "1875/1875 [==============================] - 4s 2ms/step - loss: 0.3402 - accuracy: 0.8768\n",
            "Epoch 4/10\n",
            "1875/1875 [==============================] - 4s 2ms/step - loss: 0.3139 - accuracy: 0.8855\n",
            "Epoch 5/10\n",
            "1875/1875 [==============================] - 4s 2ms/step - loss: 0.2927 - accuracy: 0.8923\n",
            "Epoch 6/10\n",
            "1875/1875 [==============================] - 3s 2ms/step - loss: 0.2807 - accuracy: 0.8961\n",
            "Epoch 7/10\n",
            "1875/1875 [==============================] - 3s 2ms/step - loss: 0.2648 - accuracy: 0.9013\n",
            "Epoch 8/10\n",
            "1875/1875 [==============================] - 3s 2ms/step - loss: 0.2525 - accuracy: 0.9040\n",
            "Epoch 9/10\n",
            "1875/1875 [==============================] - 3s 2ms/step - loss: 0.2500 - accuracy: 0.9073\n",
            "Epoch 10/10\n",
            "1875/1875 [==============================] - 3s 2ms/step - loss: 0.2426 - accuracy: 0.9082\n"
          ],
          "name": "stdout"
        },
        {
          "output_type": "execute_result",
          "data": {
            "text/plain": [
              "<tensorflow.python.keras.callbacks.History at 0x7f9ed40cdad0>"
            ]
          },
          "metadata": {
            "tags": []
          },
          "execution_count": 18
        }
      ]
    },
    {
      "cell_type": "markdown",
      "metadata": {
        "id": "Q3OZRlB28w03"
      },
      "source": [
        "### Now Evaluate the Model \n",
        "Check the Accuracy of the Model using Test Images "
      ]
    },
    {
      "cell_type": "code",
      "metadata": {
        "colab": {
          "base_uri": "https://localhost:8080/"
        },
        "id": "QkbmhsGn9HyP",
        "outputId": "e1f62c22-e634-4106-839d-da24ef56187d"
      },
      "source": [
        "model.evaluate(testing_images , testing_labels  )"
      ],
      "execution_count": 19,
      "outputs": [
        {
          "output_type": "stream",
          "text": [
            "313/313 [==============================] - 1s 1ms/step - loss: 0.3411 - accuracy: 0.8802\n"
          ],
          "name": "stdout"
        },
        {
          "output_type": "execute_result",
          "data": {
            "text/plain": [
              "[0.3411116898059845, 0.8802000284194946]"
            ]
          },
          "metadata": {
            "tags": []
          },
          "execution_count": 19
        }
      ]
    },
    {
      "cell_type": "markdown",
      "metadata": {
        "id": "PClipL7e9RXn"
      },
      "source": [
        "### The accuracy is 88 % so now do some exercise on it that is it work properly or not \n",
        "It will show the probibality of 10 classes "
      ]
    },
    {
      "cell_type": "code",
      "metadata": {
        "colab": {
          "base_uri": "https://localhost:8080/"
        },
        "id": "4ZdGzIPR9qqG",
        "outputId": "812ead39-f53b-4ade-e17e-69b78116c930"
      },
      "source": [
        "prediction = model.predict(testing_images)\n",
        "\n",
        "print(prediction[3])"
      ],
      "execution_count": 20,
      "outputs": [
        {
          "output_type": "stream",
          "text": [
            "[8.3517143e-08 9.9997711e-01 1.6055611e-10 2.0704152e-05 1.4424271e-06 1.1521710e-14 6.3521259e-07 2.5228829e-18 5.6095597e-11 8.6533225e-16]\n"
          ],
          "name": "stdout"
        }
      ]
    },
    {
      "cell_type": "code",
      "metadata": {
        "colab": {
          "base_uri": "https://localhost:8080/"
        },
        "id": "AnhAwnMB99T_",
        "outputId": "0adfb99f-1724-4888-9bb4-d930f1ec7c4a"
      },
      "source": [
        "print(testing_labels[3])"
      ],
      "execution_count": 22,
      "outputs": [
        {
          "output_type": "stream",
          "text": [
            "1\n"
          ],
          "name": "stdout"
        }
      ]
    },
    {
      "cell_type": "code",
      "metadata": {
        "colab": {
          "base_uri": "https://localhost:8080/",
          "height": 299
        },
        "id": "zzvm5_pW-XzI",
        "outputId": "2115c505-dce4-4b0d-d491-a35e32cafd6e"
      },
      "source": [
        "import numpy as np # For some computatiuon\n",
        "np.set_printoptions(linewidth=200) # Context manager for setting print options.\n",
        "\n",
        "import matplotlib.pyplot as plt # For displaying \n",
        "plt.imshow(testing_images[3]) # Show the images on index $ in traing images \n",
        "\n",
        "print('Class Labell = ',testing_labels[3] , '\\n' ) # For showing the label\n",
        "#print(testing_images[3]) # For showing the image\n"
      ],
      "execution_count": 30,
      "outputs": [
        {
          "output_type": "stream",
          "text": [
            "Class Labell =  1 \n",
            "\n"
          ],
          "name": "stdout"
        },
        {
          "output_type": "display_data",
          "data": {
            "image/png": "[encoded data removed]",
            "text/plain": [
              "<Figure size 432x288 with 1 Axes>"
            ]
          },
          "metadata": {
            "tags": [],
            "needs_background": "light"
          }
        }
      ]
    },
    {
      "cell_type": "code",
      "metadata": {
        "id": "Bng5ZsDh-twu"
      },
      "source": [
        ""
      ],
      "execution_count": null,
      "outputs": []
    }
  ]
}