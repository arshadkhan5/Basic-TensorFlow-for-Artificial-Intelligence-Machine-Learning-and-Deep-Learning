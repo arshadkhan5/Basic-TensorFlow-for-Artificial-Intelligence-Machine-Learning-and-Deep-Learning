{
  "nbformat": 4,
  "nbformat_minor": 0,
  "metadata": {
    "colab": {
      "name": "Neural_Network_With_CallBack_Function.ipynb",
      "provenance": []
    },
    "kernelspec": {
      "name": "python3",
      "display_name": "Python 3"
    },
    "language_info": {
      "name": "python"
    }
  },
  "cells": [
    {
      "cell_type": "markdown",
      "metadata": {
        "id": "_1lC2OR5y_HO"
      },
      "source": [
        "Importing the tensorflow \n",
        "\n",
        "\n",
        "\n"
      ]
    },
    {
      "cell_type": "code",
      "metadata": {
        "id": "L1JwdP1lTPTw"
      },
      "source": [
        "import tensorflow as tf"
      ],
      "execution_count": 19,
      "outputs": []
    },
    {
      "cell_type": "markdown",
      "metadata": {
        "id": "QNN5p0_BUMO4"
      },
      "source": [
        "<mark>Callback<mark>\n",
        "##### Its is a function which specify the accuracy and when the model training gives this specified   accuracy then traning will stop autmatically \n"
      ]
    },
    {
      "cell_type": "code",
      "metadata": {
        "id": "OhY8mfYVy3-s"
      },
      "source": [
        "\n",
        "\n",
        "class myCallback(tf.keras.callbacks.Callback):\n",
        "  def on_epoch_end(self, epoch, logs={}):\n",
        "    if(logs.get('accuracy')>0.6):\n",
        "      print(\"\\nReached 60% accuracy so cancelling training!\")\n",
        "      self.model.stop_training = True\n"
      ],
      "execution_count": 20,
      "outputs": []
    },
    {
      "cell_type": "markdown",
      "metadata": {
        "id": "loUh31K-ZoSP"
      },
      "source": [
        "Loading the Dataset\n"
      ]
    },
    {
      "cell_type": "code",
      "metadata": {
        "id": "8XhqYDpGSclA"
      },
      "source": [
        "mnist = tf.keras.datasets.fashion_mnist"
      ],
      "execution_count": 21,
      "outputs": []
    },
    {
      "cell_type": "markdown",
      "metadata": {
        "id": "CRVnCgyTaV6O"
      },
      "source": [
        "# Preproccesing the data "
      ]
    },
    {
      "cell_type": "code",
      "metadata": {
        "id": "v1C3yTN0SePI"
      },
      "source": [
        "(x_train, y_train),(x_test, y_test) = mnist.load_data()\n",
        "x_train, x_test = x_train / 255.0, x_test / 255.0\n"
      ],
      "execution_count": 22,
      "outputs": []
    },
    {
      "cell_type": "markdown",
      "metadata": {
        "id": "8B4_4QsZain3"
      },
      "source": [
        "# Callback intialization\n"
      ]
    },
    {
      "cell_type": "code",
      "metadata": {
        "id": "5iU8Uy43TSKI"
      },
      "source": [
        "callbacks = myCallback()"
      ],
      "execution_count": 23,
      "outputs": []
    },
    {
      "cell_type": "markdown",
      "metadata": {
        "id": "JOiiGfb4apef"
      },
      "source": [
        "# Defining the model "
      ]
    },
    {
      "cell_type": "code",
      "metadata": {
        "id": "tRwR20XqShuH"
      },
      "source": [
        "\n",
        "\n",
        "model = tf.keras.models.Sequential([\n",
        "  tf.keras.layers.Flatten(input_shape=(28, 28)),\n",
        "  tf.keras.layers.Dense(512, activation=tf.nn.relu),\n",
        "  tf.keras.layers.Dense(10, activation=tf.nn.softmax)\n",
        "])"
      ],
      "execution_count": 24,
      "outputs": []
    },
    {
      "cell_type": "markdown",
      "metadata": {
        "id": "0MLBlnYkaten"
      },
      "source": [
        "# compiling the Model "
      ]
    },
    {
      "cell_type": "code",
      "metadata": {
        "id": "UZDChoW4Smsb"
      },
      "source": [
        "model.compile(optimizer=tf.optimizers.Adam(),\n",
        "              loss='sparse_categorical_crossentropy',\n",
        "              metrics=['accuracy'])"
      ],
      "execution_count": 25,
      "outputs": []
    },
    {
      "cell_type": "markdown",
      "metadata": {
        "id": "GTooND4Aay_g"
      },
      "source": [
        "# Fitting the Model "
      ]
    },
    {
      "cell_type": "code",
      "metadata": {
        "colab": {
          "base_uri": "https://localhost:8080/"
        },
        "id": "t3TSDi57SawY",
        "outputId": "eeb761a3-a884-432d-9a7e-65aef45173a7"
      },
      "source": [
        "model.fit(x_train, y_train, epochs=10, callbacks=[callbacks])\n"
      ],
      "execution_count": 26,
      "outputs": [
        {
          "output_type": "stream",
          "text": [
            "Epoch 1/10\n",
            "1875/1875 [==============================] - 10s 5ms/step - loss: 0.5907 - accuracy: 0.7925\n",
            "\n",
            "Reached 60% accuracy so cancelling training!\n"
          ],
          "name": "stdout"
        },
        {
          "output_type": "execute_result",
          "data": {
            "text/plain": [
              "<tensorflow.python.keras.callbacks.History at 0x7f8d415b2050>"
            ]
          },
          "metadata": {
            "tags": []
          },
          "execution_count": 26
        }
      ]
    }
  ]
}